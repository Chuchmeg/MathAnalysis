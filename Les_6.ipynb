{
 "cells": [
  {
   "cell_type": "markdown",
   "metadata": {},
   "source": [
    "__1.__ Найти производную $y'_{x}$ функции:\n",
    "\n",
    "### $$\\mbox{arctg}\\Bigr(\\frac{y}{x}\\Bigl)=\\ln \\sqrt{x^2+y^2}$$\n",
    "\n",
    "Решение\n",
    "\n",
    "### $$\\frac{1}{1+\\Bigr(\\frac{y}{x}\\Bigl)^2}\\cdot \\frac{y'\\cdot x-y\\cdot 1}{x^2} =\\frac{1}{2}\\cdot \\frac{1}{x^2+y^2} \\cdot (2x+2y\\cdot y')$$\n",
    "\n",
    "### $$\\frac{y'\\cdot x-y\\cdot 1}{x^2+y^2}=\\frac{1}{2}\\cdot \\frac{2x+2y\\cdot y'}{x^2+y^2}$$\n",
    "\n",
    "### $$2x\\cdot y'-2y=2x+2y\\cdot y'$$\n",
    "\n",
    "### $$(2x-2y)\\cdot y'=2x+2y$$\n",
    "\n",
    "### $$y'=\\frac{x+y}{x-y}$$"
   ]
  },
  {
   "cell_type": "markdown",
   "metadata": {},
   "source": [
    "__2.__ Найти производную $y'_{x}$ функции:\n",
    "\n",
    "### $$\\begin{cases}\n",
    "   y=\\frac{t^2}{t-1}, \\\\\n",
    "   x=\\frac{t}{t^2-1} \n",
    " \\end{cases}$$\n",
    " \n",
    " Решение:\n",
    " \n",
    " \n",
    " ### $$\\begin{cases}\n",
    "   y'_{t}=\\frac{2t\\cdot (t-1)-t^2\\cdot1}{(t-1)^2}, \\\\\n",
    "   x_{t}=\\frac{1\\cdot(t^2-1)-t\\cdot2t}{(t^2-1)^2} \n",
    " \\end{cases}\\Rightarrow\n",
    " \\begin{cases}\n",
    "   y'_{t}=\\frac{t^2-2t}{(t-1)^2}, \\\\\n",
    "   x_{t}=\\frac{-t^2-1}{(t^2-1)^2} \n",
    " \\end{cases}\\Rightarrow\n",
    " y'_{x}=\\frac{y'_{t}}{x_{t}}=\\frac{t^2-2t}{(t-1)^2}\\cdot \\frac{(t^2-1)^2}{-t^2-1}=-\\frac{(t^2-2t)(t+1)^2}{t^2+1}$$"
   ]
  },
  {
   "cell_type": "markdown",
   "metadata": {},
   "source": [
    "__3.__ Найти производную с помощью логарифмирования:\n",
    "\n",
    "### $$y=(x^2+2)^5\\cdot(3x-x^3)^3$$\n",
    "\n",
    "Решение:\n",
    "\n",
    "### $$y'=f(x)\\cdot (\\ln f(x))'$$\n",
    "\n",
    "### $$y'=(x^2+2)^5\\cdot(3x-x^3)^3\\cdot\\Bigr(\\frac{5\\cdot2x}{x^2+2}+\\frac{3\\cdot(3-3x^2)}{3x-x^3}\\Bigl)$$"
   ]
  },
  {
   "cell_type": "markdown",
   "metadata": {},
   "source": [
    "__4.__ Найти производную функции с помощью логарифмирования:\n",
    "\n",
    "### $$y=x^x$$\n",
    "\n",
    "Решение:\n",
    "\n",
    "### $$y'=f(x)\\cdot (\\ln f(x))'$$\n",
    "\n",
    "### $$y'=x^x\\cdot\\Bigr(x\\cdot\\ln x\\Bigl)'=x^x\\cdot\\Bigr(1\\cdot\\ln x+x\\cdot\\frac{1}{x}\\Bigl)=x^x\\cdot\\Bigr(\\ln x+1\\Bigl)$$"
   ]
  },
  {
   "cell_type": "markdown",
   "metadata": {},
   "source": [
    "__5.__ Найти производную функции с помощью логарифмирования:\n",
    "\n",
    "### $$y=\\frac{(2-x^2)^3\\cdot(x-1)^2}{(2x^3-3x)\\cdot e^x}$$\n",
    "\n",
    "Решение:\n",
    "\n",
    "### $$y'=f(x)\\cdot (\\ln f(x))'$$\n",
    "\n",
    "### $$y'=\\frac{(2-x^2)^3\\cdot(x-1)^2}{(2x^3-3x)\\cdot e^x}\\cdot\\Bigr(\\frac{3\\cdot(-2x)}{2-x^2}+\\frac{2}{x-1}-\\frac{6x^2-3}{2x^3-3x}-1\\Bigl)$$"
   ]
  },
  {
   "cell_type": "code",
   "execution_count": null,
   "metadata": {},
   "outputs": [],
   "source": []
  }
 ],
 "metadata": {
  "kernelspec": {
   "display_name": "Python 3",
   "language": "python",
   "name": "python3"
  },
  "language_info": {
   "codemirror_mode": {
    "name": "ipython",
    "version": 3
   },
   "file_extension": ".py",
   "mimetype": "text/x-python",
   "name": "python",
   "nbconvert_exporter": "python",
   "pygments_lexer": "ipython3",
   "version": "3.8.3"
  }
 },
 "nbformat": 4,
 "nbformat_minor": 4
}
