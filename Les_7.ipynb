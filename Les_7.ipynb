{
 "cells": [
  {
   "cell_type": "markdown",
   "metadata": {},
   "source": [
    "__1.__ Найти частные производные первого и второго порядка. Убедиться в равенстве смешанных производных.\n",
    "\n",
    "### $$U=x^3+3xy^2+z^2-39x-36y+2z+26$$"
   ]
  },
  {
   "cell_type": "markdown",
   "metadata": {},
   "source": [
    "Первого порядка:\n",
    "\n",
    "### $$U'x=3x^2+3y^2-39$$\n",
    "### $$U'y=6xy-36$$\n",
    "### $$U'z=2z+2$$\n",
    "\n",
    "Второго порядка:\n",
    "\n",
    "От $x$:\n",
    "### $$U''xx=6x$$\n",
    "### $$U''xy=6y$$\n",
    "### $$U''xz=0$$\n",
    "\n",
    "От $y$:\n",
    "### $$U''yx=6y$$\n",
    "### $$U''yy=6x$$\n",
    "### $$U''yz=0$$\n",
    "\n",
    "От $z$:\n",
    "### $$U''zx=0$$\n",
    "### $$U''zy=0$$\n",
    "### $$U''zz=2$$"
   ]
  },
  {
   "cell_type": "markdown",
   "metadata": {},
   "source": [
    "__2.__ Найти частные производные первого и второго порядка. Убедиться в равенстве смешанных производных.\n",
    "\n",
    "### $$U=\\frac{256}{x}+\\frac{x^2}{y}+\\frac{y^2}{z}+z^2$$"
   ]
  },
  {
   "cell_type": "markdown",
   "metadata": {},
   "source": [
    "Первого порядка:\n",
    "\n",
    "### $$U'x=-\\frac{256}{x^2}+\\frac{2x}{y}$$\n",
    "### $$U'y=-\\frac{x^2}{y^2}+\\frac{2y}{z}$$\n",
    "### $$U'z=-\\frac{y^2}{z^2}+2z$$\n",
    "\n",
    "Второго порядка:\n",
    "\n",
    "От $x$:\n",
    "### $$U''xx=\\frac{512}{x^3}+\\frac{2}{y}$$\n",
    "### $$U''xy=-\\frac{2x}{y^2}$$\n",
    "### $$U''xz=0$$\n",
    "\n",
    "От $y$:\n",
    "### $$U''yx=-\\frac{2x}{y^2}$$\n",
    "### $$U''yy=\\frac{2x^2}{y^3}+\\frac{2}{z}$$\n",
    "### $$U''yz=-\\frac{2y}{z^2}$$\n",
    "\n",
    "От $z$:\n",
    "### $$U''zx=0$$\n",
    "### $$U''zy=-\\frac{2y}{z^2}$$\n",
    "### $$U''zz=\\frac{2y^2}{z^3}+2$$"
   ]
  },
  {
   "cell_type": "markdown",
   "metadata": {},
   "source": [
    "__3.__ Найти производную функции $U=x^2+y^2+z^2$ по направлению вектора $\\overrightarrow{c}(-9,8,-12)$ в точке $M(8,-12,9)$\n",
    "\n",
    "\n",
    "\n",
    "### $$U'_{\\overrightarrow{c}}=(\\overrightarrow{c}_{0}\\cdot \\mbox{grad}U)$$\n",
    "\n",
    "Длина вектора $\\overrightarrow{c}$:\n",
    "\n",
    "### $$|\\overrightarrow{c}|=\\sqrt{x^2_{0}+y^2_{0}+z^2_{0}}=\\sqrt{(-9)^2+8^2+(-12)^2}=\\sqrt{289}=17$$\n",
    "\n",
    "Вектор $\\overrightarrow{c}_{0}$:\n",
    "\n",
    "### $$\\overrightarrow{c_{0}}=\\frac{\\overrightarrow{c}}{|\\overrightarrow{c}|}=\\Bigr(-\\frac{9}{17},\\frac{8}{17},-\\frac{12}{17}\\Bigl)$$\n",
    "\n",
    "Градиент в точке $M(8,-12,9)$.\n",
    "\n",
    "### $$U'_{x}=2x$$\n",
    "\n",
    "### $$U'_{y}=2y$$\n",
    "\n",
    "### $$U'_{z}=2z$$\n",
    "\n",
    "### $$\\mbox{grad}U=(16,-24,18)$$\n",
    "\n",
    "\n",
    "\n",
    "### $$U'_{\\overrightarrow{c}}=-\\frac{9}{17}\\cdot 16+\\frac{8}{17}\\cdot (-24)-\\frac{12}{17}\\cdot 18=-\\frac{144+192+216}{17}=-\\frac{552}{17}$$"
   ]
  },
  {
   "cell_type": "markdown",
   "metadata": {},
   "source": [
    "__4.__ Найти производную функции $U=e^{x^2+y^2+z^2}$ по направлению вектора $\\overrightarrow{c}(4,-13,-16)$ в точке $L(-16,4,-13)$\n",
    "\n",
    "\n",
    "### $$U'_{\\overrightarrow{c}}=(\\overrightarrow{c}_{0}\\cdot \\mbox{grad}U)$$\n",
    "\n",
    "Длина вектора $\\overrightarrow{c}$:\n",
    "\n",
    "### $$|\\overrightarrow{c}|=\\sqrt{x^2_{0}+y^2_{0}+z^2_{0}}=\\sqrt{4^2+(-13)^2+(-16)^2}=\\sqrt{441}=21$$\n",
    "\n",
    "Вектор $\\overrightarrow{c}_{0}$:\n",
    "\n",
    "### $$\\overrightarrow{c_{0}}=\\frac{\\overrightarrow{c}}{|\\overrightarrow{c}|}=\\Bigr(\\frac{4}{21},-\\frac{13}{21},-\\frac{16}{21}\\Bigl)$$\n",
    "\n",
    "Градиент в точке $L(-16,4,-13)$.\n",
    "\n",
    "### $$U'_{x}=e^{x^2+y^2+z^2}\\cdot2x$$\n",
    "\n",
    "### $$U'_{y}=e^{x^2+y^2+z^2}\\cdot2y$$\n",
    "\n",
    "### $$U'_{z}=e^{x^2+y^2+z^2}\\cdot2z$$\n",
    "\n",
    "### $$\\mbox{grad}U=(-32e^{441},8e^{441},-26e^{441})$$\n",
    "\n",
    "\n",
    "\n",
    "### $$U'_{\\overrightarrow{c}}=\\frac{4}{21}\\cdot(-32e^{441})-\\frac{13}{21}\\cdot 8e^{441}-\\frac{16}{21}\\cdot (-26e^{441})=$$\n",
    "\n",
    "### $$=\\frac{-128-104+416}{21}e^{441}=\\frac{184}{21}e^{441}$$"
   ]
  },
  {
   "cell_type": "code",
   "execution_count": null,
   "metadata": {},
   "outputs": [],
   "source": []
  }
 ],
 "metadata": {
  "kernelspec": {
   "display_name": "Python 3",
   "language": "python",
   "name": "python3"
  },
  "language_info": {
   "codemirror_mode": {
    "name": "ipython",
    "version": 3
   },
   "file_extension": ".py",
   "mimetype": "text/x-python",
   "name": "python",
   "nbconvert_exporter": "python",
   "pygments_lexer": "ipython3",
   "version": "3.8.3"
  }
 },
 "nbformat": 4,
 "nbformat_minor": 4
}
