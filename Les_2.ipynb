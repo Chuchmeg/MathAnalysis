{
 "cells": [
  {
   "cell_type": "markdown",
   "metadata": {},
   "source": [
    "__1.__ Представьте в виде __несократимой__ рациональной дроби:\n",
    "\n",
    "### $$а)\\,\\,\\, 0.(216);$$\n",
    "\n",
    "### $$б)\\,\\,\\, 1.0(01).$$"
   ]
  },
  {
   "cell_type": "markdown",
   "metadata": {},
   "source": [
    "$$a = 0.(216)$$\n",
    "$$1000a = 216.(216)$$\n",
    "$$1000a = 216 + 0.(216)$$\n",
    "$$1000a = 216 + a$$\n",
    "$$999a = 216$$\n",
    "$$a = \\frac{216}{999} = \\frac{24}{111}$$\n",
    "$$a = \\frac{24}{111}$$"
   ]
  },
  {
   "cell_type": "code",
   "execution_count": 2,
   "metadata": {},
   "outputs": [
    {
     "name": "stdout",
     "output_type": "stream",
     "text": [
      "0.21621621621621623\n"
     ]
    }
   ],
   "source": [
    "print (24/111)"
   ]
  },
  {
   "cell_type": "markdown",
   "metadata": {},
   "source": [
    "$$b = 0.(01)$$\n",
    "$$100b = 01.(01)$$\n",
    "$$100b = 01 + 0.(01)$$\n",
    "$$100b = 01 + b$$\n",
    "$$99b = 01$$\n",
    "$$b = \\frac{01}{99} = \\frac{1}{99}$$"
   ]
  },
  {
   "cell_type": "code",
   "execution_count": 5,
   "metadata": {},
   "outputs": [
    {
     "name": "stdout",
     "output_type": "stream",
     "text": [
      "0.010101010101010102\n"
     ]
    }
   ],
   "source": [
    "print (1/99)"
   ]
  },
  {
   "cell_type": "markdown",
   "metadata": {},
   "source": [
    "$$c = 1.0(01)$$\n",
    "$$10c = 10.(01)$$\n",
    "$$10c = 10 + 0.(01)$$\n",
    "$$10c = 10 + \\frac{1}{99}$$\n",
    "$$10c = \\frac{991}{99}$$\n",
    "$$c = \\frac{991}{990}$$\n",
    "$$1.0(01) = \\frac{991}{990}$$"
   ]
  },
  {
   "cell_type": "code",
   "execution_count": 6,
   "metadata": {},
   "outputs": [
    {
     "name": "stdout",
     "output_type": "stream",
     "text": [
      "1.001010101010101\n"
     ]
    }
   ],
   "source": [
    "print (991/990)"
   ]
  },
  {
   "cell_type": "markdown",
   "metadata": {},
   "source": [
    "__3.__ Проверьте любым способ, является ли данные логические формулы тавтологией:\n",
    "\n",
    "### $$a)\\,\\,\\, (A \\vee B) \\rightarrow (B \\vee\\overline A)$$\n",
    "### $$б)\\,\\,\\, A \\rightarrow (A \\vee (\\overline B \\wedge A))$$"
   ]
  },
  {
   "cell_type": "markdown",
   "metadata": {},
   "source": [
    " <table>\n",
    "<thead>\n",
    "<tr><th>$A$</th><th>$B$</th><th>$A\\vee B$</th><th>$\\overline A$</th><th>$B\\vee \\overline A$</th><th>$(A \\vee B) \\rightarrow (B\\vee \\overline A)$</th></tr>\n",
    "</thead>\n",
    "<tbody>\n",
    "    <tr><td>$0$</td><td>$0$</td><td>$0$</td><td>$1$</td><td>$1$</td><td>$1$</td></tr>\n",
    "    <tr><td>$0$</td><td>$1$</td><td>$1$</td><td>$1$</td><td>$1$</td><td>$1$</td></tr>\n",
    "    <tr><td>$1$</td><td>$0$</td><td>$1$</td><td>$0$</td><td>$0$</td><td>$0$</td></tr>\n",
    "    <tr><td>$1$</td><td>$1$</td><td>$1$</td><td>$0$</td><td>$1$</td><td>$1$</td></tr>\n",
    "</tbody>\n",
    "</table>\n",
    "\n",
    " <table>\n",
    "<thead>\n",
    "<tr><th>$A$</th><th>$B$</th><th>$\\overline B$</th><th>$\\overline B\\wedge A$</th><th>$A \\vee (\\overline B\\wedge A)$</th><th>$A \\rightarrow (A \\vee (\\overline B\\wedge A))$</th></tr>\n",
    "</thead>\n",
    "<tbody>\n",
    "    <tr><td>$0$</td><td>$0$</td><td>$1$</td><td>$0$</td><td>$0$</td><td>$1$</td></tr>\n",
    "    <tr><td>$0$</td><td>$1$</td><td>$0$</td><td>$0$</td><td>$0$</td><td>$1$</td></tr>\n",
    "    <tr><td>$1$</td><td>$0$</td><td>$1$</td><td>$1$</td><td>$1$</td><td>$1$</td></tr>\n",
    "    <tr><td>$1$</td><td>$1$</td><td>$0$</td><td>$0$</td><td>$1$</td><td>$1$</td></tr>\n",
    "</tbody>\n",
    "</table>"
   ]
  },
  {
   "cell_type": "markdown",
   "metadata": {},
   "source": [
    "__4.__ Сформулируйте словесно высказывания:\n",
    "### $$a)\\,\\,\\, (\\overline A \\vee B) \\rightarrow \\overline C$$\n",
    "### $$б)\\,\\,\\, C \\rightarrow (A \\vee \\overline B)$$\n",
    "\n",
    "- $A:\\,\\,\\,$ сегодня светит солнце; \n",
    "- $B:\\,\\,\\,$ сегодня сыро; \n",
    "- $C:\\,\\,\\,$ я поеду на дачу."
   ]
  },
  {
   "cell_type": "markdown",
   "metadata": {},
   "source": [
    "Если сегодня не светит солнце или сегодня сыро, то я не поеду на дачу\n",
    "\n",
    "Если сегодня светит солнце или сегодня не сыро, то я поеду на дачу"
   ]
  },
  {
   "cell_type": "markdown",
   "metadata": {},
   "source": [
    "__5.__  Пользуясь правилом построения противоположного высказывания, запишите утверждения, противоположные следующим:\n",
    "\n",
    "a) На любом курсе каждого факультета есть студенты, сдающие все экзамены на «отлично».\n",
    "\n",
    "б) В любом самолете на рейсе Вашингтон-Москва присутствует хотя бы один сотрудник силовых органов, в каждой пуговице одежды которого вмонтирован микрофон."
   ]
  },
  {
   "cell_type": "markdown",
   "metadata": {},
   "source": [
    "а) На $\\forall$ курсе $\\forall$ факультета $\\exists$ студенты, сдающие $\\forall$ экзамены на \"отлично\"\n",
    "$\\exists$ курс $\\exists$ факультета, где $\\forall$ студент, может не сдать $\\exists$ экзамен на \"отлично\"\n",
    "Есть курс одного факультета, где любой студент, может не сдать один экзамен на \"отлично\""
   ]
  },
  {
   "cell_type": "markdown",
   "metadata": {},
   "source": [
    "б) В $\\forall$ самолете на рейсе Вашингтон-Москва $\\exists$ хотя бы один сотрудник силовых органов, в $\\forall$ пуговице одежды которого вмонтирован микрофон\n",
    "\n",
    "В $\\exists$ самолете на рейсе Вашингтон-Москва ни у $\\forall$ сотрудника силовых органов, нет $\\exists$ пуговицы одежды в которого вмонтирован микрофон\n",
    "\n",
    "В одном самолете на рейсе Вашингтон-Москва ни у одного сотрудника силовых органов, нет хотя бы одной пуговицы одежды в которого вмонтирован микрофон"
   ]
  },
  {
   "cell_type": "code",
   "execution_count": null,
   "metadata": {},
   "outputs": [],
   "source": []
  }
 ],
 "metadata": {
  "kernelspec": {
   "display_name": "Python 3",
   "language": "python",
   "name": "python3"
  },
  "language_info": {
   "codemirror_mode": {
    "name": "ipython",
    "version": 3
   },
   "file_extension": ".py",
   "mimetype": "text/x-python",
   "name": "python",
   "nbconvert_exporter": "python",
   "pygments_lexer": "ipython3",
   "version": "3.8.3"
  }
 },
 "nbformat": 4,
 "nbformat_minor": 4
}
