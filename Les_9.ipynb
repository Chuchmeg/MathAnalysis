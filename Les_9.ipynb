{
 "cells": [
  {
   "cell_type": "markdown",
   "metadata": {},
   "source": [
    "__1.__ Вычислить неопределенный интеграл\n",
    "\n",
    "### $$\\int \\frac{2x+3}{(x-2)(x+5)}\\,dx$$\n",
    "\n",
    "Решение:\n",
    "\n",
    "\n",
    "### $$\\frac{2x+3}{(x-2)(x+5)}=\\frac{A}{x-2}+\\frac{B}{x+5}$$ \n",
    "\n",
    "### $$\\frac{A}{x-2}+\\frac{B}{x+5}=\\frac{x(A+B)+(5A-2B)}{(x-2)(x+5)}$$\n",
    "\n",
    "### $$\\begin{cases}\n",
    "   A+B=2 \\\\\n",
    "   5A-2B=3\n",
    " \\end{cases}\\,\\,\\,\\,\\,\\Rightarrow\\,\\,\\,\\,\\, \n",
    " \\begin{cases}\n",
    "   A=1 \\\\\n",
    "   B=1\n",
    " \\end{cases}$$ \n",
    "\n",
    "### $$\\int\\frac{2x+3}{(x-2)(x+5)}\\,dx=\\int\\frac{1}{x-2}\\,dx+\\int\\frac{1}{x+5}\\,dx=$$\n",
    "\n",
    "### $$=\\ln|x-2|+\\ln|x+5|+C$$"
   ]
  },
  {
   "cell_type": "markdown",
   "metadata": {},
   "source": [
    "__2.__ Вычислить неопределенный интеграл\n",
    "\n",
    "### $$\\int e^{2x}\\cos 3x\\,dx$$\n",
    "\n",
    "Решение:\n",
    "\n",
    "### $$U=e^{2x}\\,\\,\\,\\,\\,\\Rightarrow\\,\\,\\,\\,\\, dU=2e^{2x}\\,dx$$ \n",
    "### $$dV=\\cos 3x\\,dx\\,\\,\\,\\,\\,\\Rightarrow\\,\\,\\,\\,\\, V=\\frac{1}{3}\\sin 3x$$ \n",
    "\n",
    "### $$\\int e^{2x}\\cos 3x\\,dx=e^{2x}\\cdot \\frac{1}{3}\\sin 3x-\\int 2e^{2x}\\cdot \\frac{1}{3}\\sin 3x\\,dx$$ \n",
    "\n",
    "### $$=\\frac{1}{3}e^{2x}\\sin 3x-\\frac{2}{3}\\int e^{2x}\\cdot \\sin 3x\\, dx$$ \n",
    "\n",
    "### $$U=e^{2x}\\,\\,\\,\\,\\,\\Rightarrow\\,\\,\\,\\,\\, dU=2e^{2x}\\,dx$$ \n",
    "### $$dV=\\sin 3x\\,dx\\,\\,\\,\\,\\,\\Rightarrow\\,\\,\\,\\,\\, V=-\\frac{1}{3}\\cos 3x$$ \n",
    "\n",
    "### $$\\int e^{2x}\\cos 3x\\,dx=\\frac{1}{3}e^{2x}\\sin 3x+\\frac{2}{9}e^{2x}\\cos 3x-\\frac{4}{9}\\int e^{2x}\\cdot \\cos 3x\\, dx$$\n",
    "\n",
    "### $$\\frac{13}{9}\\int e^{2x}\\sin x\\,dx=\\frac{1}{3}e^{2x}\\sin 3x+\\frac{2}{9}e^{2x}\\cos 3x$$\n",
    "\n",
    "### $$\\int e^{2x}\\sin x\\,dx=\\frac{e^{2x}(3\\sin 3x+2\\cos 3x)}{13}+C$$"
   ]
  },
  {
   "cell_type": "markdown",
   "metadata": {},
   "source": [
    "__3.__ Вычислить определенный интеграл\n",
    "\n",
    "### $$\\int\\limits_0^{\\ln2} xe^{-x}\\,dx$$\n",
    "\n",
    "Решение:\n",
    "\n",
    "### $$U=x\\,\\,\\,\\,\\,\\Rightarrow\\,\\,\\,\\,\\, dU=dx$$ \n",
    "### $$dV=e^{-x}\\,dx\\,\\,\\,\\,\\,\\Rightarrow\\,\\,\\,\\,\\, V=-e^{-x}$$ \n",
    "\n",
    "### $$\\int\\limits_0^{\\ln2} xe^{-x}\\,dx=\\Bigr(x\\cdot (-e^{-x})\\Bigl)\\bigg|_0^{\\ln2}+\\int\\limits_0^{\\ln2} e^{-x}\\,dx=$$ \n",
    "\n",
    "### $$=\\ln2\\cdot(-\\frac{1}{2})-\\Bigr(e^{-x}\\Bigl)\\bigg|_0^{\\ln2}$$ \n",
    "\n",
    "### $$=-\\frac{\\ln2}{2}-\\frac{1}{2}+1=\\frac{1-\\ln2}{2}$$ "
   ]
  },
  {
   "cell_type": "markdown",
   "metadata": {},
   "source": [
    "__4.__ Вычислить несобственный интеграл\n",
    "\n",
    "### $$\\int\\limits_2^{+\\infty} \\frac{dx}{x^2+x-2}$$\n",
    "\n",
    "Решение:\n",
    "\n",
    "### $$\\int\\limits_2^{+\\infty} \\frac{dx}{x^2+x-2}=\\lim_{b\\to +\\infty}\\int\\limits_2^{b} \\frac{dx}{x^2+x-2}=$$\n",
    "\n",
    "### $$=\\lim_{b\\to +\\infty}\\int\\limits_2^{b} \\frac{dx}{(x-1)(x+2)}=\\frac{1}{3}\\lim_{b\\to +\\infty}\\int\\limits_2^{b} \\Bigr(\\frac{1}{x-1}-\\frac{1}{x+2}\\Bigl)\\,dx=$$\n",
    "\n",
    "### $$=\\frac{1}{3}\\lim_{b\\to +\\infty}\\Bigr(\\ln|x-1|-\\ln|x+2|\\Bigl)\\bigg|_2^{b}=\\frac{1}{3}\\lim_{b\\to +\\infty}\\Bigr(\\ln\\frac{|x-1|}{|x+2|}\\Bigl)\\bigg|_2^{b}=$$\n",
    "\n",
    "### $$=\\frac{1}{3}\\ln|1|-\\frac{1}{3}\\ln\\Bigr|\\frac{1}{4}\\Bigl|=\\frac{1}{3}\\ln4$$"
   ]
  },
  {
   "cell_type": "code",
   "execution_count": null,
   "metadata": {},
   "outputs": [],
   "source": []
  }
 ],
 "metadata": {
  "kernelspec": {
   "display_name": "Python 3",
   "language": "python",
   "name": "python3"
  },
  "language_info": {
   "codemirror_mode": {
    "name": "ipython",
    "version": 3
   },
   "file_extension": ".py",
   "mimetype": "text/x-python",
   "name": "python",
   "nbconvert_exporter": "python",
   "pygments_lexer": "ipython3",
   "version": "3.8.3"
  }
 },
 "nbformat": 4,
 "nbformat_minor": 4
}
